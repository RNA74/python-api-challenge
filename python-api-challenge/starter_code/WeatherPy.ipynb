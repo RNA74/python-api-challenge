{
 "cells": [
  {
   "cell_type": "markdown",
   "metadata": {},
   "source": [
    "# WeatherPy\n",
    "----\n",
    "\n",
    "#### Note\n",
    "* Instructions have been included for each segment. You do not have to follow them exactly, but they are included to help you think through the steps."
   ]
  },
  {
   "cell_type": "code",
   "execution_count": null,
   "metadata": {
    "scrolled": true
   },
   "outputs": [],
   "source": [
    "# Dependencies and Setup\n",
    "import matplotlib.pyplot as plt\n",
    "import pandas as pd\n",
    "import numpy as np\n",
    "import requests\n",
    "import time\n",
    "from scipy.stats import linregress\n",
    "from sklearn import linear_model\n",
    "import seaborn as sns\n",
    "\n",
    "# Import API key\n",
    "from api_keys import weather_api_key\n",
    "\n",
    "# Incorporated citipy to determine city based on latitude and longitude\n",
    "from citipy import citipy\n",
    "\n",
    "# Output File (CSV)\n",
    "output_data_file = \"output_data/cities.csv\"\n",
    "\n",
    "\n",
    "# Range of latitudes and longitudes\n",
    "lat_range = (-90, 90)\n",
    "lng_range = (-180, 180)"
   ]
  },
  {
   "cell_type": "markdown",
   "metadata": {},
   "source": [
    "## Generate Cities List"
   ]
  },
  {
   "cell_type": "code",
   "execution_count": 2,
   "metadata": {},
   "outputs": [
    {
     "data": {
      "text/plain": [
       "609"
      ]
     },
     "execution_count": 2,
     "metadata": {},
     "output_type": "execute_result"
    }
   ],
   "source": [
    "# List for holding lat_lngs and cities\n",
    "lat_lngs = []\n",
    "cities = []\n",
    "\n",
    "# Create a set of random lat and lng combinations\n",
    "lats = np.random.uniform(lat_range[0], lat_range[1], size=1500)\n",
    "lngs = np.random.uniform(lng_range[0], lng_range[1], size=1500)\n",
    "lat_lngs = zip(lats, lngs)\n",
    "\n",
    "# Identify nearest city for each lat, lng combination\n",
    "for lat_lng in lat_lngs:\n",
    "    city = citipy.nearest_city(lat_lng[0], lat_lng[1]).city_name\n",
    "    \n",
    "    # If the city is unique, then add it to a our cities list\n",
    "    if city not in cities:\n",
    "        cities.append(city)\n",
    "\n",
    "# Print the city count to confirm sufficient count\n",
    "len(cities)"
   ]
  },
  {
   "cell_type": "markdown",
   "metadata": {},
   "source": [
    "### Perform API Calls\n",
    "* Perform a weather check on each city using a series of successive API calls.\n",
    "* Include a print log of each city as it'sbeing processed (with the city number and city name).\n"
   ]
  },
  {
   "cell_type": "code",
   "execution_count": 3,
   "metadata": {
    "scrolled": true
   },
   "outputs": [
    {
     "name": "stdout",
     "output_type": "stream",
     "text": [
      "ushuaia\n",
      "hithadhoo\n",
      "hermanus\n",
      "vaini\n",
      "upernavik\n",
      "error\n",
      "qaanaaq\n",
      "hobart\n",
      "bembereke\n",
      "mahebourg\n",
      "cape town\n",
      "tuatapere\n",
      "error\n",
      "error\n",
      "mar del plata\n",
      "barrow\n",
      "east london\n",
      "provideniya\n",
      "waingapu\n",
      "tuktoyaktuk\n",
      "error\n",
      "longyearbyen\n",
      "labuhan\n",
      "karasjok\n",
      "bredasdorp\n",
      "kapaa\n",
      "aklavik\n",
      "miraflores\n",
      "ovalle\n",
      "atuona\n",
      "nyurba\n",
      "nikolskoye\n",
      "huarmey\n",
      "new norfolk\n",
      "narsaq\n",
      "georgetown\n",
      "talnakh\n",
      "hilo\n",
      "busselton\n",
      "flin flon\n",
      "springbok\n",
      "error\n",
      "vila franca do campo\n",
      "saint-philippe\n",
      "error\n",
      "bethel\n",
      "rio gallegos\n",
      "lahij\n",
      "ostrovnoy\n",
      "madaoua\n",
      "petropavlovsk-kamchatskiy\n",
      "alice springs\n",
      "owando\n",
      "pisco\n",
      "port alfred\n",
      "havoysund\n",
      "butaritari\n",
      "camacha\n",
      "porto walter\n",
      "error\n",
      "saint george\n",
      "ahipara\n",
      "fort smith\n",
      "error\n",
      "albany\n",
      "avarua\n",
      "broome\n",
      "naron\n",
      "error\n",
      "tual\n",
      "palmer\n",
      "bouar\n",
      "jacksonville\n",
      "carnarvon\n",
      "error\n",
      "muroto\n",
      "erzin\n",
      "riyadh\n",
      "hasaki\n",
      "error\n",
      "hare bay\n",
      "iqaluit\n",
      "victoria\n",
      "paralimni\n",
      "jamestown\n",
      "khatanga\n",
      "belyy yar\n",
      "lingao\n",
      "college\n",
      "error\n",
      "brae\n",
      "ponta do sol\n",
      "ribeira grande\n",
      "arraial do cabo\n",
      "rikitea\n",
      "peniche\n",
      "faanui\n",
      "aguimes\n",
      "saskylakh\n",
      "aswan\n",
      "error\n",
      "gloversville\n",
      "benidorm\n",
      "tautira\n",
      "punta arenas\n",
      "marzuq\n",
      "puerto montt\n",
      "cabedelo\n",
      "norman wells\n",
      "harper\n",
      "sao joao da barra\n",
      "fuglebjerg\n",
      "kargopol\n",
      "error\n",
      "tabory\n",
      "kralendijk\n",
      "tiksi\n",
      "yomou\n",
      "pachino\n",
      "kodiak\n",
      "dingle\n",
      "villazon\n",
      "honiara\n",
      "nanortalik\n",
      "axim\n",
      "verdun\n",
      "torbay\n",
      "paamiut\n",
      "kendari\n",
      "ormond beach\n",
      "urdoma\n",
      "chaoyang\n",
      "dunedin\n",
      "ngaoundere\n",
      "chokurdakh\n",
      "betioky\n",
      "oildale\n",
      "susanville\n",
      "upington\n",
      "mataura\n",
      "vila velha\n",
      "castro\n",
      "mana\n",
      "san jeronimo\n",
      "error\n",
      "balkanabat\n",
      "lavrentiya\n",
      "ilulissat\n",
      "kavaratti\n",
      "error\n",
      "error\n",
      "talcahuano\n",
      "coquimbo\n",
      "maneadero\n",
      "sorland\n",
      "vao\n",
      "geraldton\n",
      "contamana\n",
      "yellowknife\n",
      "mnogovershinnyy\n",
      "moussoro\n",
      "prince rupert\n",
      "chapais\n",
      "faya\n",
      "error\n",
      "bengkulu\n",
      "san patricio\n",
      "robertsport\n",
      "vagur\n",
      "error\n",
      "galle\n",
      "lebu\n",
      "lamu\n",
      "bestobe\n",
      "kemijarvi\n",
      "esperance\n",
      "bluff\n",
      "ariquemes\n",
      "tari\n",
      "xai-xai\n",
      "sault sainte marie\n",
      "lodja\n",
      "error\n",
      "tinos\n",
      "sur\n",
      "error\n",
      "padang\n",
      "fortuna\n",
      "tembisa\n",
      "isangel\n",
      "kaitangata\n",
      "verkhovyna\n",
      "dombarovskiy\n",
      "nixa\n",
      "error\n",
      "los llanos de aridane\n",
      "pacific grove\n",
      "error\n",
      "linares\n",
      "xuanhua\n",
      "zhanaozen\n",
      "pointe michel\n",
      "saint-pierre\n",
      "henties bay\n",
      "bemidji\n",
      "meulaboh\n",
      "lorengau\n",
      "acapulco\n",
      "byron bay\n",
      "dikson\n",
      "tasiilaq\n",
      "puerto ayora\n",
      "bilma\n",
      "sulangan\n",
      "oranjemund\n",
      "te anau\n",
      "whyalla\n",
      "codrington\n",
      "error\n",
      "breves\n",
      "error\n",
      "ancud\n",
      "lagoa\n",
      "olafsvik\n",
      "quatre cocos\n",
      "abha\n",
      "entre-deux\n",
      "priiskovyy\n",
      "vila\n",
      "jatai\n",
      "error\n",
      "matara\n",
      "menemen\n",
      "presidencia roque saenz pena\n",
      "marawi\n",
      "skowhegan\n",
      "manaquiri\n",
      "sibolga\n",
      "dongying\n",
      "katangli\n",
      "boende\n",
      "cienfuegos\n",
      "pringsewu\n",
      "alaca\n",
      "kruisfontein\n",
      "saldanha\n",
      "yagodnoye\n",
      "zuwarah\n",
      "pitimbu\n",
      "tomatlan\n",
      "lincoln\n",
      "harer\n",
      "kukushtan\n",
      "tarakan\n",
      "kamenka\n",
      "tabas\n",
      "port elizabeth\n",
      "aksu\n",
      "sakaiminato\n",
      "ulaanbaatar\n",
      "sayville\n",
      "northam\n",
      "visby\n",
      "touros\n",
      "bathsheba\n",
      "error\n",
      "avera\n",
      "dawlatabad\n",
      "saint anthony\n",
      "izazi\n",
      "fethiye\n",
      "biak\n",
      "tupiza\n",
      "lac du bonnet\n",
      "gravdal\n",
      "stromness\n",
      "zaritap\n",
      "moinesti\n",
      "chukhloma\n",
      "alofi\n",
      "yar-sale\n",
      "kavieng\n",
      "morant bay\n",
      "charters towers\n",
      "kushima\n",
      "khandyga\n",
      "ballina\n",
      "tessalit\n",
      "keti bandar\n",
      "krasnaya gorka\n",
      "ixtapa\n",
      "error\n",
      "labuan\n",
      "pevek\n",
      "sioux lookout\n",
      "viransehir\n",
      "micheweni\n",
      "pampa\n",
      "guerrero negro\n",
      "centenario do sul\n",
      "bambous virieux\n",
      "santa vitoria do palmar\n",
      "error\n",
      "zachary\n",
      "noumea\n",
      "diffa\n",
      "ketchikan\n",
      "benguela\n",
      "krasnyy chikoy\n",
      "bac lieu\n",
      "beringovskiy\n",
      "puerto ayacucho\n",
      "bentiu\n",
      "betare oya\n",
      "khromtau\n",
      "thompson\n",
      "error\n",
      "error\n",
      "kattivakkam\n",
      "bubaque\n",
      "error\n",
      "reyes\n",
      "error\n",
      "sept-iles\n",
      "beloha\n",
      "error\n",
      "trelew\n",
      "cururupu\n",
      "thiers\n",
      "zhaoqing\n",
      "iquitos\n",
      "simoes\n",
      "nioro\n",
      "error\n",
      "rabaul\n",
      "tabuk\n",
      "larsnes\n",
      "chumikan\n",
      "krasne\n",
      "port hardy\n",
      "eyl\n",
      "porto novo\n",
      "flinders\n",
      "peleduy\n",
      "yulara\n",
      "pemba\n",
      "lompoc\n",
      "sawtell\n",
      "hambantota\n",
      "harsin\n",
      "cidreira\n",
      "zima\n",
      "inhambane\n",
      "nantucket\n",
      "chimoio\n",
      "leningradskiy\n",
      "pinawa\n",
      "batamshinskiy\n",
      "blythe\n",
      "error\n",
      "broken hill\n",
      "bosaso\n",
      "artur nogueira\n",
      "groningen\n",
      "butzow\n",
      "abu kamal\n",
      "naze\n",
      "meadow lake\n",
      "vanimo\n",
      "medvedka\n",
      "kupang\n",
      "waipawa\n",
      "guarapari\n",
      "hirara\n",
      "ryotsu\n",
      "kirakira\n",
      "error\n",
      "error\n",
      "progreso\n",
      "talara\n",
      "mehriz\n",
      "port hedland\n",
      "vardo\n",
      "error\n",
      "grindavik\n",
      "sisimiut\n",
      "tulun\n",
      "ngunguru\n",
      "port augusta\n",
      "sandwick\n",
      "botngard\n",
      "morecambe\n",
      "lasa\n",
      "alta floresta\n",
      "camocim\n",
      "makhachkala\n",
      "tommot\n",
      "clyde river\n",
      "trincomalee\n",
      "cabo san lucas\n",
      "severo-kurilsk\n",
      "sorong\n",
      "strezhevoy\n",
      "tafo\n",
      "klaksvik\n",
      "trat\n",
      "hit\n",
      "error\n",
      "emerald\n",
      "berlevag\n",
      "erenhot\n",
      "mozarlandia\n",
      "hanmer springs\n",
      "error\n",
      "nesna\n",
      "san jose\n",
      "gualaquiza\n",
      "la ronge\n",
      "dalbandin\n",
      "nome\n",
      "hamilton\n",
      "kloulklubed\n",
      "chernyshevskiy\n",
      "le port\n",
      "toguchin\n",
      "kerchevskiy\n",
      "timmins\n",
      "pirovskoye\n",
      "puerto baquerizo moreno\n",
      "esna\n",
      "bandarbeyla\n",
      "cherskiy\n",
      "port lincoln\n",
      "sinnamary\n",
      "portland\n",
      "turayf\n",
      "grand gaube\n",
      "ankara\n",
      "sao filipe\n",
      "amalapuram\n",
      "yumen\n",
      "narrabri\n",
      "ciudad bolivar\n",
      "nyaunglebin\n",
      "san jose de guanipa\n",
      "nkowakowa\n",
      "aksarka\n",
      "error\n",
      "pa sang\n",
      "lahaina\n",
      "pakokku\n",
      "tabou\n",
      "goregaon\n",
      "port-cartier\n",
      "odweyne\n",
      "rocha\n",
      "teknaf\n",
      "mayo\n",
      "tripoli\n",
      "error\n",
      "palu\n",
      "araouane\n",
      "hay river\n",
      "boma\n",
      "oktyabrskoye\n",
      "banjar\n",
      "akdepe\n",
      "bikaner\n",
      "mumford\n",
      "kantemirovka\n",
      "cascais\n",
      "giovinazzo\n",
      "kisangani\n",
      "lewiston\n",
      "dhidhdhoo\n",
      "okhotsk\n",
      "clonakilty\n",
      "quelimane\n",
      "dodge city\n",
      "itarema\n",
      "kathmandu\n",
      "souillac\n",
      "conceicao do araguaia\n",
      "solnechnyy\n",
      "talaya\n",
      "bondo\n",
      "barranca\n",
      "dongsheng\n",
      "merauke\n",
      "tura\n",
      "chunoyar\n",
      "cap malheureux\n",
      "kamaishi\n",
      "kropotkin\n",
      "kilis\n",
      "le vauclin\n",
      "kenora\n",
      "bloomfield\n",
      "ternate\n",
      "kapuskasing\n",
      "patitirion\n",
      "mount pleasant\n",
      "shwebo\n",
      "maria aurora\n",
      "idritsa\n",
      "itacoatiara\n",
      "chara\n",
      "error\n",
      "willowmore\n",
      "srednekolymsk\n",
      "xining\n",
      "khandbari\n",
      "kaseda\n",
      "riberalta\n",
      "lata\n",
      "okato\n",
      "grenfell\n",
      "ettaiyapuram\n",
      "kargat\n",
      "qaqortoq\n",
      "shingu\n",
      "mwinilunga\n",
      "rio branco do sul\n",
      "maldonado\n",
      "verkhoyansk\n",
      "airai\n",
      "alyangula\n",
      "dicabisagan\n",
      "topeka\n",
      "jizan\n",
      "mayumba\n",
      "nigde\n",
      "trairi\n",
      "krasnoarmeysk\n",
      "bonavista\n",
      "kichera\n",
      "arman\n",
      "error\n",
      "taoudenni\n",
      "chabahar\n",
      "san juan\n",
      "manokwari\n",
      "kamyaran\n",
      "fukuma\n",
      "chuy\n",
      "lebrija\n",
      "port blair\n",
      "perth\n",
      "churapcha\n",
      "save\n",
      "error\n",
      "gujar khan\n",
      "farafenni\n",
      "bogalusa\n",
      "suileng\n",
      "vuktyl\n",
      "error\n",
      "gilbues\n",
      "spokane\n",
      "andenes\n",
      "bowen\n",
      "noyabrsk\n",
      "cayenne\n",
      "bosobolo\n",
      "yeniseysk\n",
      "necochea\n",
      "thessalon\n",
      "dovolnoye\n",
      "albuquerque\n",
      "merrill\n",
      "chaupimarca\n",
      "luderitz\n",
      "florianopolis\n",
      "iida\n",
      "jalu\n",
      "san cristobal\n",
      "jieshi\n",
      "fairbanks\n",
      "thinadhoo\n",
      "marovoay\n",
      "sukumo\n",
      "taybad\n",
      "dryden\n",
      "lebork\n",
      "belz\n",
      "aden\n",
      "fairview\n",
      "egvekinot\n",
      "plainfield\n",
      "areosa\n",
      "error\n",
      "nemuro\n",
      "sarkand\n",
      "katsuura\n",
      "error\n",
      "uberlandia\n",
      "jumla\n",
      "ekhabi\n",
      "ranong\n",
      "praya\n",
      "show low\n",
      "error\n",
      "talisay\n",
      "error\n",
      "takoradi\n",
      "botwood\n",
      "ejido\n",
      "bardiyah\n",
      "kieta\n"
     ]
    }
   ],
   "source": [
    "unit = \"Imperial\"\n",
    "url= f\"http://api.openweathermap.org/data/2.5/weather?units={unit}&APPID={weather_api_key}\"\n",
    "\n",
    "data = []\n",
    "\n",
    "for city in cities:\n",
    "    \n",
    "    query_url = f\"{url}&q={city}\"\n",
    "    \n",
    "    try:\n",
    "        weather_response = requests.get(query_url).json()\n",
    "        lat= weather_response[\"coord\"][\"lat\"]\n",
    "        lon= weather_response[\"coord\"] [\"lon\"]\n",
    "        temp= weather_response[\"main\"][\"temp_max\"]\n",
    "        hum= weather_response[\"main\"][\"humidity\"]\n",
    "        clo= weather_response[\"clouds\"][\"all\"]\n",
    "        win= weather_response[\"wind\"][\"speed\"]\n",
    "        country= weather_response[\"sys\"][\"country\"]\n",
    "        date= weather_response[\"dt\"]\n",
    "        \n",
    "        \n",
    "        data.append({\"city\": city, \"lat\":lat, \"lon\":lon, \"temp\":temp, \"hum\": hum ,\n",
    "                      \"clo\":clo, \"win\":win, \"country\":country, \"date\": date}) \n",
    "        \n",
    "        print(city)\n",
    "        time.sleep(1.01)\n",
    "    except:\n",
    "        \n",
    "        print(\"error\")\n",
    "        time.sleep(1.01)\n",
    "        pass"
   ]
  },
  {
   "cell_type": "code",
   "execution_count": null,
   "metadata": {},
   "outputs": [],
   "source": []
  },
  {
   "cell_type": "markdown",
   "metadata": {},
   "source": [
    "### Convert Raw Data to DataFrame\n",
    "* Export the city data into a .csv.\n",
    "* Display the DataFrame"
   ]
  },
  {
   "cell_type": "code",
   "execution_count": 4,
   "metadata": {},
   "outputs": [
    {
     "data": {
      "text/plain": [
       "city       558\n",
       "lat        558\n",
       "lon        558\n",
       "temp       558\n",
       "hum        558\n",
       "clo        558\n",
       "win        558\n",
       "country    558\n",
       "date       558\n",
       "dtype: int64"
      ]
     },
     "execution_count": 4,
     "metadata": {},
     "output_type": "execute_result"
    }
   ],
   "source": [
    "\n",
    "weather_data_pd =pd.DataFrame(data)\n",
    "weather_data_pd.count()"
   ]
  },
  {
   "cell_type": "code",
   "execution_count": 5,
   "metadata": {},
   "outputs": [
    {
     "data": {
      "text/html": [
       "<div>\n",
       "<style scoped>\n",
       "    .dataframe tbody tr th:only-of-type {\n",
       "        vertical-align: middle;\n",
       "    }\n",
       "\n",
       "    .dataframe tbody tr th {\n",
       "        vertical-align: top;\n",
       "    }\n",
       "\n",
       "    .dataframe thead th {\n",
       "        text-align: right;\n",
       "    }\n",
       "</style>\n",
       "<table border=\"1\" class=\"dataframe\">\n",
       "  <thead>\n",
       "    <tr style=\"text-align: right;\">\n",
       "      <th></th>\n",
       "      <th>lat</th>\n",
       "      <th>lon</th>\n",
       "      <th>temp</th>\n",
       "      <th>hum</th>\n",
       "      <th>clo</th>\n",
       "      <th>win</th>\n",
       "      <th>date</th>\n",
       "    </tr>\n",
       "  </thead>\n",
       "  <tbody>\n",
       "    <tr>\n",
       "      <th>count</th>\n",
       "      <td>558.000000</td>\n",
       "      <td>558.000000</td>\n",
       "      <td>558.000000</td>\n",
       "      <td>558.000000</td>\n",
       "      <td>558.000000</td>\n",
       "      <td>558.000000</td>\n",
       "      <td>5.580000e+02</td>\n",
       "    </tr>\n",
       "    <tr>\n",
       "      <th>mean</th>\n",
       "      <td>19.704322</td>\n",
       "      <td>19.924732</td>\n",
       "      <td>69.796470</td>\n",
       "      <td>71.437276</td>\n",
       "      <td>53.485663</td>\n",
       "      <td>7.981326</td>\n",
       "      <td>1.628888e+09</td>\n",
       "    </tr>\n",
       "    <tr>\n",
       "      <th>std</th>\n",
       "      <td>33.083821</td>\n",
       "      <td>88.729462</td>\n",
       "      <td>14.643672</td>\n",
       "      <td>21.521369</td>\n",
       "      <td>39.686640</td>\n",
       "      <td>5.431812</td>\n",
       "      <td>2.849626e+02</td>\n",
       "    </tr>\n",
       "    <tr>\n",
       "      <th>min</th>\n",
       "      <td>-54.800000</td>\n",
       "      <td>-179.166700</td>\n",
       "      <td>36.660000</td>\n",
       "      <td>8.000000</td>\n",
       "      <td>0.000000</td>\n",
       "      <td>0.000000</td>\n",
       "      <td>1.628887e+09</td>\n",
       "    </tr>\n",
       "    <tr>\n",
       "      <th>25%</th>\n",
       "      <td>-6.956925</td>\n",
       "      <td>-58.222525</td>\n",
       "      <td>57.910000</td>\n",
       "      <td>62.000000</td>\n",
       "      <td>8.000000</td>\n",
       "      <td>3.800000</td>\n",
       "      <td>1.628887e+09</td>\n",
       "    </tr>\n",
       "    <tr>\n",
       "      <th>50%</th>\n",
       "      <td>22.852150</td>\n",
       "      <td>24.637800</td>\n",
       "      <td>71.645000</td>\n",
       "      <td>77.500000</td>\n",
       "      <td>60.000000</td>\n",
       "      <td>6.910000</td>\n",
       "      <td>1.628888e+09</td>\n",
       "    </tr>\n",
       "    <tr>\n",
       "      <th>75%</th>\n",
       "      <td>47.672975</td>\n",
       "      <td>97.291275</td>\n",
       "      <td>79.910000</td>\n",
       "      <td>87.000000</td>\n",
       "      <td>96.750000</td>\n",
       "      <td>11.135000</td>\n",
       "      <td>1.628888e+09</td>\n",
       "    </tr>\n",
       "    <tr>\n",
       "      <th>max</th>\n",
       "      <td>78.218600</td>\n",
       "      <td>179.316700</td>\n",
       "      <td>105.580000</td>\n",
       "      <td>100.000000</td>\n",
       "      <td>100.000000</td>\n",
       "      <td>28.720000</td>\n",
       "      <td>1.628888e+09</td>\n",
       "    </tr>\n",
       "  </tbody>\n",
       "</table>\n",
       "</div>"
      ],
      "text/plain": [
       "              lat         lon        temp         hum         clo         win  \\\n",
       "count  558.000000  558.000000  558.000000  558.000000  558.000000  558.000000   \n",
       "mean    19.704322   19.924732   69.796470   71.437276   53.485663    7.981326   \n",
       "std     33.083821   88.729462   14.643672   21.521369   39.686640    5.431812   \n",
       "min    -54.800000 -179.166700   36.660000    8.000000    0.000000    0.000000   \n",
       "25%     -6.956925  -58.222525   57.910000   62.000000    8.000000    3.800000   \n",
       "50%     22.852150   24.637800   71.645000   77.500000   60.000000    6.910000   \n",
       "75%     47.672975   97.291275   79.910000   87.000000   96.750000   11.135000   \n",
       "max     78.218600  179.316700  105.580000  100.000000  100.000000   28.720000   \n",
       "\n",
       "               date  \n",
       "count  5.580000e+02  \n",
       "mean   1.628888e+09  \n",
       "std    2.849626e+02  \n",
       "min    1.628887e+09  \n",
       "25%    1.628887e+09  \n",
       "50%    1.628888e+09  \n",
       "75%    1.628888e+09  \n",
       "max    1.628888e+09  "
      ]
     },
     "execution_count": 5,
     "metadata": {},
     "output_type": "execute_result"
    }
   ],
   "source": [
    "weather_data_pd.describe()"
   ]
  },
  {
   "cell_type": "code",
   "execution_count": 6,
   "metadata": {},
   "outputs": [
    {
     "data": {
      "text/html": [
       "<div>\n",
       "<style scoped>\n",
       "    .dataframe tbody tr th:only-of-type {\n",
       "        vertical-align: middle;\n",
       "    }\n",
       "\n",
       "    .dataframe tbody tr th {\n",
       "        vertical-align: top;\n",
       "    }\n",
       "\n",
       "    .dataframe thead th {\n",
       "        text-align: right;\n",
       "    }\n",
       "</style>\n",
       "<table border=\"1\" class=\"dataframe\">\n",
       "  <thead>\n",
       "    <tr style=\"text-align: right;\">\n",
       "      <th></th>\n",
       "      <th>city</th>\n",
       "      <th>lat</th>\n",
       "      <th>lon</th>\n",
       "      <th>temp</th>\n",
       "      <th>hum</th>\n",
       "      <th>clo</th>\n",
       "      <th>win</th>\n",
       "      <th>country</th>\n",
       "      <th>date</th>\n",
       "    </tr>\n",
       "  </thead>\n",
       "  <tbody>\n",
       "    <tr>\n",
       "      <th>0</th>\n",
       "      <td>ushuaia</td>\n",
       "      <td>-54.8000</td>\n",
       "      <td>-68.3000</td>\n",
       "      <td>37.06</td>\n",
       "      <td>87</td>\n",
       "      <td>75</td>\n",
       "      <td>16.11</td>\n",
       "      <td>AR</td>\n",
       "      <td>1628887320</td>\n",
       "    </tr>\n",
       "    <tr>\n",
       "      <th>1</th>\n",
       "      <td>hithadhoo</td>\n",
       "      <td>-0.6000</td>\n",
       "      <td>73.0833</td>\n",
       "      <td>81.72</td>\n",
       "      <td>75</td>\n",
       "      <td>97</td>\n",
       "      <td>13.09</td>\n",
       "      <td>MV</td>\n",
       "      <td>1628887143</td>\n",
       "    </tr>\n",
       "    <tr>\n",
       "      <th>2</th>\n",
       "      <td>hermanus</td>\n",
       "      <td>-34.4187</td>\n",
       "      <td>19.2345</td>\n",
       "      <td>49.80</td>\n",
       "      <td>80</td>\n",
       "      <td>1</td>\n",
       "      <td>12.59</td>\n",
       "      <td>ZA</td>\n",
       "      <td>1628887135</td>\n",
       "    </tr>\n",
       "    <tr>\n",
       "      <th>3</th>\n",
       "      <td>vaini</td>\n",
       "      <td>-21.2000</td>\n",
       "      <td>-175.2000</td>\n",
       "      <td>66.36</td>\n",
       "      <td>88</td>\n",
       "      <td>40</td>\n",
       "      <td>6.91</td>\n",
       "      <td>TO</td>\n",
       "      <td>1628887191</td>\n",
       "    </tr>\n",
       "    <tr>\n",
       "      <th>4</th>\n",
       "      <td>upernavik</td>\n",
       "      <td>72.7868</td>\n",
       "      <td>-56.1549</td>\n",
       "      <td>43.95</td>\n",
       "      <td>95</td>\n",
       "      <td>100</td>\n",
       "      <td>6.76</td>\n",
       "      <td>GL</td>\n",
       "      <td>1628887324</td>\n",
       "    </tr>\n",
       "  </tbody>\n",
       "</table>\n",
       "</div>"
      ],
      "text/plain": [
       "        city      lat       lon   temp  hum  clo    win country        date\n",
       "0    ushuaia -54.8000  -68.3000  37.06   87   75  16.11      AR  1628887320\n",
       "1  hithadhoo  -0.6000   73.0833  81.72   75   97  13.09      MV  1628887143\n",
       "2   hermanus -34.4187   19.2345  49.80   80    1  12.59      ZA  1628887135\n",
       "3      vaini -21.2000 -175.2000  66.36   88   40   6.91      TO  1628887191\n",
       "4  upernavik  72.7868  -56.1549  43.95   95  100   6.76      GL  1628887324"
      ]
     },
     "execution_count": 6,
     "metadata": {},
     "output_type": "execute_result"
    }
   ],
   "source": [
    "weather_data_pd.head()"
   ]
  },
  {
   "cell_type": "markdown",
   "metadata": {},
   "source": [
    "## Inspect the data and remove the cities where the humidity > 100%.\n",
    "----\n",
    "Skip this step if there are no cities that have humidity > 100%. "
   ]
  },
  {
   "cell_type": "code",
   "execution_count": null,
   "metadata": {},
   "outputs": [],
   "source": []
  },
  {
   "cell_type": "code",
   "execution_count": 7,
   "metadata": {},
   "outputs": [
    {
     "data": {
      "text/plain": [
       "Int64Index([], dtype='int64')"
      ]
     },
     "execution_count": 7,
     "metadata": {},
     "output_type": "execute_result"
    }
   ],
   "source": [
    "#  Get the indices of cities that have humidity over 100%.\n",
    "Humidity_data_pd = weather_data_pd[(weather_data_pd[\"hum\"] > 100)].index\n",
    "                                  \n",
    "Humidity_data_pd"
   ]
  },
  {
   "cell_type": "code",
   "execution_count": 8,
   "metadata": {},
   "outputs": [
    {
     "data": {
      "text/html": [
       "<div>\n",
       "<style scoped>\n",
       "    .dataframe tbody tr th:only-of-type {\n",
       "        vertical-align: middle;\n",
       "    }\n",
       "\n",
       "    .dataframe tbody tr th {\n",
       "        vertical-align: top;\n",
       "    }\n",
       "\n",
       "    .dataframe thead th {\n",
       "        text-align: right;\n",
       "    }\n",
       "</style>\n",
       "<table border=\"1\" class=\"dataframe\">\n",
       "  <thead>\n",
       "    <tr style=\"text-align: right;\">\n",
       "      <th></th>\n",
       "      <th>city</th>\n",
       "      <th>lat</th>\n",
       "      <th>lon</th>\n",
       "      <th>temp</th>\n",
       "      <th>hum</th>\n",
       "      <th>clo</th>\n",
       "      <th>win</th>\n",
       "      <th>country</th>\n",
       "      <th>date</th>\n",
       "    </tr>\n",
       "  </thead>\n",
       "  <tbody>\n",
       "    <tr>\n",
       "      <th>0</th>\n",
       "      <td>ushuaia</td>\n",
       "      <td>-54.8000</td>\n",
       "      <td>-68.3000</td>\n",
       "      <td>37.06</td>\n",
       "      <td>87</td>\n",
       "      <td>75</td>\n",
       "      <td>16.11</td>\n",
       "      <td>AR</td>\n",
       "      <td>1628887320</td>\n",
       "    </tr>\n",
       "    <tr>\n",
       "      <th>1</th>\n",
       "      <td>hithadhoo</td>\n",
       "      <td>-0.6000</td>\n",
       "      <td>73.0833</td>\n",
       "      <td>81.72</td>\n",
       "      <td>75</td>\n",
       "      <td>97</td>\n",
       "      <td>13.09</td>\n",
       "      <td>MV</td>\n",
       "      <td>1628887143</td>\n",
       "    </tr>\n",
       "    <tr>\n",
       "      <th>2</th>\n",
       "      <td>hermanus</td>\n",
       "      <td>-34.4187</td>\n",
       "      <td>19.2345</td>\n",
       "      <td>49.80</td>\n",
       "      <td>80</td>\n",
       "      <td>1</td>\n",
       "      <td>12.59</td>\n",
       "      <td>ZA</td>\n",
       "      <td>1628887135</td>\n",
       "    </tr>\n",
       "    <tr>\n",
       "      <th>3</th>\n",
       "      <td>vaini</td>\n",
       "      <td>-21.2000</td>\n",
       "      <td>-175.2000</td>\n",
       "      <td>66.36</td>\n",
       "      <td>88</td>\n",
       "      <td>40</td>\n",
       "      <td>6.91</td>\n",
       "      <td>TO</td>\n",
       "      <td>1628887191</td>\n",
       "    </tr>\n",
       "    <tr>\n",
       "      <th>4</th>\n",
       "      <td>upernavik</td>\n",
       "      <td>72.7868</td>\n",
       "      <td>-56.1549</td>\n",
       "      <td>43.95</td>\n",
       "      <td>95</td>\n",
       "      <td>100</td>\n",
       "      <td>6.76</td>\n",
       "      <td>GL</td>\n",
       "      <td>1628887324</td>\n",
       "    </tr>\n",
       "  </tbody>\n",
       "</table>\n",
       "</div>"
      ],
      "text/plain": [
       "        city      lat       lon   temp  hum  clo    win country        date\n",
       "0    ushuaia -54.8000  -68.3000  37.06   87   75  16.11      AR  1628887320\n",
       "1  hithadhoo  -0.6000   73.0833  81.72   75   97  13.09      MV  1628887143\n",
       "2   hermanus -34.4187   19.2345  49.80   80    1  12.59      ZA  1628887135\n",
       "3      vaini -21.2000 -175.2000  66.36   88   40   6.91      TO  1628887191\n",
       "4  upernavik  72.7868  -56.1549  43.95   95  100   6.76      GL  1628887324"
      ]
     },
     "execution_count": 8,
     "metadata": {},
     "output_type": "execute_result"
    }
   ],
   "source": [
    "# Make a new DataFrame equal to the city data to drop all humidity outliers by index.\n",
    "# Passing \"inplace=False\" will make a copy of the city_data DataFrame, which we call \"clean_city_data\".\n",
    "new_weather_data = weather_data_pd.drop(Humidity_data_pd, inplace=False)\n",
    "new_weather_data.head()"
   ]
  },
  {
   "cell_type": "code",
   "execution_count": 9,
   "metadata": {},
   "outputs": [],
   "source": [
    "\n",
    "# Export the City_Data into a csv\n",
    "new_weather_data.to_csv(output_data_file) "
   ]
  },
  {
   "cell_type": "markdown",
   "metadata": {},
   "source": [
    "## Plotting the Data\n",
    "* Use proper labeling of the plots using plot titles (including date of analysis) and axes labels.\n",
    "* Save the plotted figures as .pngs."
   ]
  },
  {
   "cell_type": "markdown",
   "metadata": {},
   "source": [
    "## Latitude vs. Temperature Plot"
   ]
  },
  {
   "cell_type": "code",
   "execution_count": 10,
   "metadata": {
    "scrolled": true
   },
   "outputs": [
    {
     "data": {
      "image/png": "[encoded data removed]",
      "text/plain": [
       "<Figure size 432x288 with 1 Axes>"
      ]
     },
     "metadata": {
      "needs_background": "light"
     },
     "output_type": "display_data"
    }
   ],
   "source": [
    "lats = new_weather_data[\"lat\"]\n",
    "max_temps = new_weather_data[\"temp\"]\n",
    "lats\n",
    "temp\n",
    "plt.scatter(lats,max_temps,\n",
    "           edgecolor = \"black\", facecolors =\"blue\", marker = \"o\", alpha=0.75)\n",
    "plt.title(f\"Latitude vs. Temperature\")\n",
    "plt.xlabel(\"Latitude\")\n",
    "plt.ylabel(\"temperature (F)\")\n",
    "\n",
    "\n",
    "# Saveing the figure\n",
    "plt.savefig(\"output_data/Fig1.png\")\n",
    "\n",
    "plt.show()"
   ]
  },
  {
   "cell_type": "markdown",
   "metadata": {},
   "source": [
    "## Latitude vs. Humidity Plot"
   ]
  },
  {
   "cell_type": "code",
   "execution_count": 11,
   "metadata": {},
   "outputs": [
    {
     "data": {
      "image/png": "[encoded data removed]",
      "text/plain": [
       "<Figure size 432x288 with 1 Axes>"
      ]
     },
     "metadata": {
      "needs_background": "light"
     },
     "output_type": "display_data"
    }
   ],
   "source": [
    "lats = new_weather_data[\"lat\"]\n",
    "Humidity = new_weather_data[\"hum\"]\n",
    "lats\n",
    "hum\n",
    "plt.scatter(lats,Humidity,\n",
    "           edgecolor = \"black\", facecolors =\"blue\", marker = \"o\", alpha=0.75, label=\"city\")\n",
    "plt.title(f\"Latitude vs. Humidity\")\n",
    "plt.xlabel(\"Latitude\")\n",
    "plt.ylabel(\"Humidity (%)\")\n",
    "\n",
    "\n",
    "# Saveing the figure\n",
    "#\n",
    "plt.savefig(\"output_data/Fig2.png\")\n",
    "\n",
    "plt.show()"
   ]
  },
  {
   "cell_type": "markdown",
   "metadata": {},
   "source": [
    "## Latitude vs. Cloudiness Plot"
   ]
  },
  {
   "cell_type": "code",
   "execution_count": 12,
   "metadata": {},
   "outputs": [
    {
     "data": {
      "image/png": "[encoded data removed]",
      "text/plain": [
       "<Figure size 432x288 with 1 Axes>"
      ]
     },
     "metadata": {
      "needs_background": "light"
     },
     "output_type": "display_data"
    }
   ],
   "source": [
    "lats= new_weather_data[\"lat\"]\n",
    "Cloudiness= new_weather_data[\"clo\"]\n",
    "lats\n",
    "clo\n",
    "plt.scatter(lats,Cloudiness,\n",
    "           edgecolor = \"black\", facecolors =\"blue\", marker = \"o\", alpha=0.75, label=\"city\")\n",
    "plt.title(f\"Latitude vs. Cloudiness\")\n",
    "plt.xlabel(\"Latitude\")\n",
    "plt.ylabel(\"Cloudiness\")\n",
    "\n",
    "\n",
    "# Saveing the figure\n",
    "plt.savefig(\"output_data/Fig3.png\")\n",
    "\n",
    "plt.show()"
   ]
  },
  {
   "cell_type": "markdown",
   "metadata": {},
   "source": [
    "## Latitude vs. Wind Speed Plot"
   ]
  },
  {
   "cell_type": "code",
   "execution_count": 13,
   "metadata": {
    "scrolled": false
   },
   "outputs": [
    {
     "data": {
      "image/png": "[encoded data removed]",
      "text/plain": [
       "<Figure size 432x288 with 1 Axes>"
      ]
     },
     "metadata": {
      "needs_background": "light"
     },
     "output_type": "display_data"
    }
   ],
   "source": [
    "lats= new_weather_data[\"lat\"]\n",
    "win= new_weather_data[\"win\"]\n",
    "lats\n",
    "win\n",
    "plt.scatter(lats,win,\n",
    "           edgecolor = \"black\", facecolors =\"blue\", marker = \"o\", alpha=0.75, label=\"city\")\n",
    "plt.title(f\"Latitude vs. Wind Speed\")\n",
    "plt.xlabel(\"Latitude\")\n",
    "plt.ylabel(\"Wind Speed\")\n",
    "\n",
    "\n",
    "# Saveing the figure\n",
    "plt.savefig(\"output_data/Fig4.png\")\n",
    "\n",
    "plt.show()"
   ]
  },
  {
   "cell_type": "code",
   "execution_count": null,
   "metadata": {},
   "outputs": [],
   "source": []
  },
  {
   "cell_type": "markdown",
   "metadata": {},
   "source": [
    "## Linear Regression"
   ]
  },
  {
   "cell_type": "code",
   "execution_count": 14,
   "metadata": {},
   "outputs": [],
   "source": [
    "# Create a function to create Linear Regression plots\n",
    "# Add the linear regression equation and line to plot\n",
    "\n",
    "def plot_linear_regression(x_values, y_values, title, text_coordinates):\n",
    "    \n",
    "    # Run regresson on southern hemisphere\n",
    "    (slope, intercept, rvalue, pvalue, stderr) = linregress(x_values, y_values)\n",
    "    regress_values = x_values * slope + intercept\n",
    "    line_eq = \"y = \" + str(round(slope,2)) + \"x + \" + str(round(intercept,2))\n",
    "\n",
    "    # Plot\n",
    "    plt.scatter(x_values,y_values)\n",
    "    plt.plot(x_values,regress_values,\"r-\")\n",
    "    plt.annotate(line_eq,text_coordinates,fontsize=15,color=\"red\")\n",
    "    plt.xlabel('Latitude')\n",
    "    plt.ylabel(title)\n",
    "    print(f\"The r-value is: {rvalue**2}\")\n",
    "    plt.show()"
   ]
  },
  {
   "cell_type": "code",
   "execution_count": 15,
   "metadata": {},
   "outputs": [
    {
     "data": {
      "text/html": [
       "<div>\n",
       "<style scoped>\n",
       "    .dataframe tbody tr th:only-of-type {\n",
       "        vertical-align: middle;\n",
       "    }\n",
       "\n",
       "    .dataframe tbody tr th {\n",
       "        vertical-align: top;\n",
       "    }\n",
       "\n",
       "    .dataframe thead th {\n",
       "        text-align: right;\n",
       "    }\n",
       "</style>\n",
       "<table border=\"1\" class=\"dataframe\">\n",
       "  <thead>\n",
       "    <tr style=\"text-align: right;\">\n",
       "      <th></th>\n",
       "      <th>city</th>\n",
       "      <th>lat</th>\n",
       "      <th>lon</th>\n",
       "      <th>temp</th>\n",
       "      <th>hum</th>\n",
       "      <th>clo</th>\n",
       "      <th>win</th>\n",
       "      <th>country</th>\n",
       "      <th>date</th>\n",
       "    </tr>\n",
       "  </thead>\n",
       "  <tbody>\n",
       "    <tr>\n",
       "      <th>4</th>\n",
       "      <td>upernavik</td>\n",
       "      <td>72.7868</td>\n",
       "      <td>-56.1549</td>\n",
       "      <td>43.95</td>\n",
       "      <td>95</td>\n",
       "      <td>100</td>\n",
       "      <td>6.76</td>\n",
       "      <td>GL</td>\n",
       "      <td>1628887324</td>\n",
       "    </tr>\n",
       "    <tr>\n",
       "      <th>5</th>\n",
       "      <td>qaanaaq</td>\n",
       "      <td>77.4840</td>\n",
       "      <td>-69.3632</td>\n",
       "      <td>43.34</td>\n",
       "      <td>61</td>\n",
       "      <td>4</td>\n",
       "      <td>7.02</td>\n",
       "      <td>GL</td>\n",
       "      <td>1628887060</td>\n",
       "    </tr>\n",
       "    <tr>\n",
       "      <th>7</th>\n",
       "      <td>bembereke</td>\n",
       "      <td>10.2283</td>\n",
       "      <td>2.6634</td>\n",
       "      <td>68.72</td>\n",
       "      <td>97</td>\n",
       "      <td>100</td>\n",
       "      <td>2.98</td>\n",
       "      <td>BJ</td>\n",
       "      <td>1628887329</td>\n",
       "    </tr>\n",
       "    <tr>\n",
       "      <th>12</th>\n",
       "      <td>barrow</td>\n",
       "      <td>71.2906</td>\n",
       "      <td>-156.7887</td>\n",
       "      <td>39.22</td>\n",
       "      <td>81</td>\n",
       "      <td>90</td>\n",
       "      <td>9.22</td>\n",
       "      <td>US</td>\n",
       "      <td>1628887339</td>\n",
       "    </tr>\n",
       "    <tr>\n",
       "      <th>14</th>\n",
       "      <td>provideniya</td>\n",
       "      <td>64.3833</td>\n",
       "      <td>-173.3000</td>\n",
       "      <td>47.37</td>\n",
       "      <td>68</td>\n",
       "      <td>89</td>\n",
       "      <td>7.43</td>\n",
       "      <td>RU</td>\n",
       "      <td>1628887188</td>\n",
       "    </tr>\n",
       "    <tr>\n",
       "      <th>...</th>\n",
       "      <td>...</td>\n",
       "      <td>...</td>\n",
       "      <td>...</td>\n",
       "      <td>...</td>\n",
       "      <td>...</td>\n",
       "      <td>...</td>\n",
       "      <td>...</td>\n",
       "      <td>...</td>\n",
       "      <td>...</td>\n",
       "    </tr>\n",
       "    <tr>\n",
       "      <th>552</th>\n",
       "      <td>talisay</td>\n",
       "      <td>10.2447</td>\n",
       "      <td>123.8494</td>\n",
       "      <td>77.02</td>\n",
       "      <td>94</td>\n",
       "      <td>90</td>\n",
       "      <td>6.91</td>\n",
       "      <td>PH</td>\n",
       "      <td>1628888115</td>\n",
       "    </tr>\n",
       "    <tr>\n",
       "      <th>553</th>\n",
       "      <td>takoradi</td>\n",
       "      <td>4.8845</td>\n",
       "      <td>-1.7554</td>\n",
       "      <td>76.51</td>\n",
       "      <td>78</td>\n",
       "      <td>100</td>\n",
       "      <td>8.43</td>\n",
       "      <td>GH</td>\n",
       "      <td>1628888117</td>\n",
       "    </tr>\n",
       "    <tr>\n",
       "      <th>554</th>\n",
       "      <td>botwood</td>\n",
       "      <td>49.1499</td>\n",
       "      <td>-55.3482</td>\n",
       "      <td>72.90</td>\n",
       "      <td>88</td>\n",
       "      <td>99</td>\n",
       "      <td>9.84</td>\n",
       "      <td>CA</td>\n",
       "      <td>1628888119</td>\n",
       "    </tr>\n",
       "    <tr>\n",
       "      <th>555</th>\n",
       "      <td>ejido</td>\n",
       "      <td>8.5514</td>\n",
       "      <td>-71.2375</td>\n",
       "      <td>73.13</td>\n",
       "      <td>87</td>\n",
       "      <td>100</td>\n",
       "      <td>3.18</td>\n",
       "      <td>VE</td>\n",
       "      <td>1628888120</td>\n",
       "    </tr>\n",
       "    <tr>\n",
       "      <th>556</th>\n",
       "      <td>bardiyah</td>\n",
       "      <td>31.7561</td>\n",
       "      <td>25.0865</td>\n",
       "      <td>79.95</td>\n",
       "      <td>71</td>\n",
       "      <td>0</td>\n",
       "      <td>8.03</td>\n",
       "      <td>LY</td>\n",
       "      <td>1628888121</td>\n",
       "    </tr>\n",
       "  </tbody>\n",
       "</table>\n",
       "<p>383 rows × 9 columns</p>\n",
       "</div>"
      ],
      "text/plain": [
       "            city      lat       lon   temp  hum  clo   win country        date\n",
       "4      upernavik  72.7868  -56.1549  43.95   95  100  6.76      GL  1628887324\n",
       "5        qaanaaq  77.4840  -69.3632  43.34   61    4  7.02      GL  1628887060\n",
       "7      bembereke  10.2283    2.6634  68.72   97  100  2.98      BJ  1628887329\n",
       "12        barrow  71.2906 -156.7887  39.22   81   90  9.22      US  1628887339\n",
       "14   provideniya  64.3833 -173.3000  47.37   68   89  7.43      RU  1628887188\n",
       "..           ...      ...       ...    ...  ...  ...   ...     ...         ...\n",
       "552      talisay  10.2447  123.8494  77.02   94   90  6.91      PH  1628888115\n",
       "553     takoradi   4.8845   -1.7554  76.51   78  100  8.43      GH  1628888117\n",
       "554      botwood  49.1499  -55.3482  72.90   88   99  9.84      CA  1628888119\n",
       "555        ejido   8.5514  -71.2375  73.13   87  100  3.18      VE  1628888120\n",
       "556     bardiyah  31.7561   25.0865  79.95   71    0  8.03      LY  1628888121\n",
       "\n",
       "[383 rows x 9 columns]"
      ]
     },
     "execution_count": 15,
     "metadata": {},
     "output_type": "execute_result"
    }
   ],
   "source": [
    "northern_hemi_df = weather_data_pd.loc[(weather_data_pd[\"lat\"] >= 0)]\n",
    "northern_hemi_df"
   ]
  },
  {
   "cell_type": "code",
   "execution_count": 16,
   "metadata": {},
   "outputs": [
    {
     "data": {
      "text/html": [
       "<div>\n",
       "<style scoped>\n",
       "    .dataframe tbody tr th:only-of-type {\n",
       "        vertical-align: middle;\n",
       "    }\n",
       "\n",
       "    .dataframe tbody tr th {\n",
       "        vertical-align: top;\n",
       "    }\n",
       "\n",
       "    .dataframe thead th {\n",
       "        text-align: right;\n",
       "    }\n",
       "</style>\n",
       "<table border=\"1\" class=\"dataframe\">\n",
       "  <thead>\n",
       "    <tr style=\"text-align: right;\">\n",
       "      <th></th>\n",
       "      <th>city</th>\n",
       "      <th>lat</th>\n",
       "      <th>lon</th>\n",
       "      <th>temp</th>\n",
       "      <th>hum</th>\n",
       "      <th>clo</th>\n",
       "      <th>win</th>\n",
       "      <th>country</th>\n",
       "      <th>date</th>\n",
       "    </tr>\n",
       "  </thead>\n",
       "  <tbody>\n",
       "    <tr>\n",
       "      <th>0</th>\n",
       "      <td>ushuaia</td>\n",
       "      <td>-54.8000</td>\n",
       "      <td>-68.3000</td>\n",
       "      <td>37.06</td>\n",
       "      <td>87</td>\n",
       "      <td>75</td>\n",
       "      <td>16.11</td>\n",
       "      <td>AR</td>\n",
       "      <td>1628887320</td>\n",
       "    </tr>\n",
       "    <tr>\n",
       "      <th>1</th>\n",
       "      <td>hithadhoo</td>\n",
       "      <td>-0.6000</td>\n",
       "      <td>73.0833</td>\n",
       "      <td>81.72</td>\n",
       "      <td>75</td>\n",
       "      <td>97</td>\n",
       "      <td>13.09</td>\n",
       "      <td>MV</td>\n",
       "      <td>1628887143</td>\n",
       "    </tr>\n",
       "    <tr>\n",
       "      <th>2</th>\n",
       "      <td>hermanus</td>\n",
       "      <td>-34.4187</td>\n",
       "      <td>19.2345</td>\n",
       "      <td>49.80</td>\n",
       "      <td>80</td>\n",
       "      <td>1</td>\n",
       "      <td>12.59</td>\n",
       "      <td>ZA</td>\n",
       "      <td>1628887135</td>\n",
       "    </tr>\n",
       "    <tr>\n",
       "      <th>3</th>\n",
       "      <td>vaini</td>\n",
       "      <td>-21.2000</td>\n",
       "      <td>-175.2000</td>\n",
       "      <td>66.36</td>\n",
       "      <td>88</td>\n",
       "      <td>40</td>\n",
       "      <td>6.91</td>\n",
       "      <td>TO</td>\n",
       "      <td>1628887191</td>\n",
       "    </tr>\n",
       "    <tr>\n",
       "      <th>6</th>\n",
       "      <td>hobart</td>\n",
       "      <td>-42.8794</td>\n",
       "      <td>147.3294</td>\n",
       "      <td>48.06</td>\n",
       "      <td>70</td>\n",
       "      <td>20</td>\n",
       "      <td>5.99</td>\n",
       "      <td>AU</td>\n",
       "      <td>1628887037</td>\n",
       "    </tr>\n",
       "    <tr>\n",
       "      <th>...</th>\n",
       "      <td>...</td>\n",
       "      <td>...</td>\n",
       "      <td>...</td>\n",
       "      <td>...</td>\n",
       "      <td>...</td>\n",
       "      <td>...</td>\n",
       "      <td>...</td>\n",
       "      <td>...</td>\n",
       "      <td>...</td>\n",
       "    </tr>\n",
       "    <tr>\n",
       "      <th>524</th>\n",
       "      <td>luderitz</td>\n",
       "      <td>-26.6481</td>\n",
       "      <td>15.1594</td>\n",
       "      <td>60.85</td>\n",
       "      <td>36</td>\n",
       "      <td>0</td>\n",
       "      <td>17.60</td>\n",
       "      <td>NA</td>\n",
       "      <td>1628888071</td>\n",
       "    </tr>\n",
       "    <tr>\n",
       "      <th>525</th>\n",
       "      <td>florianopolis</td>\n",
       "      <td>-27.6146</td>\n",
       "      <td>-48.5012</td>\n",
       "      <td>56.43</td>\n",
       "      <td>77</td>\n",
       "      <td>75</td>\n",
       "      <td>11.50</td>\n",
       "      <td>BR</td>\n",
       "      <td>1628888073</td>\n",
       "    </tr>\n",
       "    <tr>\n",
       "      <th>532</th>\n",
       "      <td>marovoay</td>\n",
       "      <td>-16.1000</td>\n",
       "      <td>46.6333</td>\n",
       "      <td>75.34</td>\n",
       "      <td>76</td>\n",
       "      <td>0</td>\n",
       "      <td>3.60</td>\n",
       "      <td>MG</td>\n",
       "      <td>1628888082</td>\n",
       "    </tr>\n",
       "    <tr>\n",
       "      <th>546</th>\n",
       "      <td>uberlandia</td>\n",
       "      <td>-18.9186</td>\n",
       "      <td>-48.2772</td>\n",
       "      <td>81.61</td>\n",
       "      <td>24</td>\n",
       "      <td>0</td>\n",
       "      <td>6.91</td>\n",
       "      <td>BR</td>\n",
       "      <td>1628888103</td>\n",
       "    </tr>\n",
       "    <tr>\n",
       "      <th>557</th>\n",
       "      <td>kieta</td>\n",
       "      <td>-6.2167</td>\n",
       "      <td>155.6333</td>\n",
       "      <td>79.88</td>\n",
       "      <td>84</td>\n",
       "      <td>82</td>\n",
       "      <td>4.54</td>\n",
       "      <td>PG</td>\n",
       "      <td>1628888123</td>\n",
       "    </tr>\n",
       "  </tbody>\n",
       "</table>\n",
       "<p>175 rows × 9 columns</p>\n",
       "</div>"
      ],
      "text/plain": [
       "              city      lat       lon   temp  hum  clo    win country  \\\n",
       "0          ushuaia -54.8000  -68.3000  37.06   87   75  16.11      AR   \n",
       "1        hithadhoo  -0.6000   73.0833  81.72   75   97  13.09      MV   \n",
       "2         hermanus -34.4187   19.2345  49.80   80    1  12.59      ZA   \n",
       "3            vaini -21.2000 -175.2000  66.36   88   40   6.91      TO   \n",
       "6           hobart -42.8794  147.3294  48.06   70   20   5.99      AU   \n",
       "..             ...      ...       ...    ...  ...  ...    ...     ...   \n",
       "524       luderitz -26.6481   15.1594  60.85   36    0  17.60      NA   \n",
       "525  florianopolis -27.6146  -48.5012  56.43   77   75  11.50      BR   \n",
       "532       marovoay -16.1000   46.6333  75.34   76    0   3.60      MG   \n",
       "546     uberlandia -18.9186  -48.2772  81.61   24    0   6.91      BR   \n",
       "557          kieta  -6.2167  155.6333  79.88   84   82   4.54      PG   \n",
       "\n",
       "           date  \n",
       "0    1628887320  \n",
       "1    1628887143  \n",
       "2    1628887135  \n",
       "3    1628887191  \n",
       "6    1628887037  \n",
       "..          ...  \n",
       "524  1628888071  \n",
       "525  1628888073  \n",
       "532  1628888082  \n",
       "546  1628888103  \n",
       "557  1628888123  \n",
       "\n",
       "[175 rows x 9 columns]"
      ]
     },
     "execution_count": 16,
     "metadata": {},
     "output_type": "execute_result"
    }
   ],
   "source": [
    "southern_hemi_df = weather_data_pd.loc[(weather_data_pd[\"lat\"] < 0)]\n",
    "southern_hemi_df"
   ]
  },
  {
   "cell_type": "code",
   "execution_count": null,
   "metadata": {},
   "outputs": [],
   "source": []
  },
  {
   "cell_type": "markdown",
   "metadata": {},
   "source": [
    "####  Northern Hemisphere - Max Temp vs. Latitude Linear Regression"
   ]
  },
  {
   "cell_type": "code",
   "execution_count": 17,
   "metadata": {},
   "outputs": [
    {
     "name": "stdout",
     "output_type": "stream",
     "text": [
      "The r-value is: 0.40550316681358056\n"
     ]
    },
    {
     "data": {
      "image/png": "[encoded data removed]",
      "text/plain": [
       "<Figure size 432x288 with 1 Axes>"
      ]
     },
     "metadata": {
      "needs_background": "light"
     },
     "output_type": "display_data"
    }
   ],
   "source": [
    "# Linear regression on Northern Hemisphere\n",
    "x_values = northern_hemi_df[\"lat\"]\n",
    "y_values = northern_hemi_df[\"temp\"]\n",
    "plot_linear_regression(x_values, y_values , 'temp',(10,40))"
   ]
  },
  {
   "cell_type": "code",
   "execution_count": 18,
   "metadata": {},
   "outputs": [],
   "source": [
    "#r-value is 0.39 which means that the relationship between the temperature and latitude is week"
   ]
  },
  {
   "cell_type": "markdown",
   "metadata": {},
   "source": [
    "####  Southern Hemisphere - Max Temp vs. Latitude Linear Regression"
   ]
  },
  {
   "cell_type": "code",
   "execution_count": 19,
   "metadata": {
    "scrolled": true
   },
   "outputs": [
    {
     "name": "stdout",
     "output_type": "stream",
     "text": [
      "The r-value is: 0.6398851541775998\n"
     ]
    },
    {
     "data": {
      "image/png": "[encoded data removed]",
      "text/plain": [
       "<Figure size 432x288 with 1 Axes>"
      ]
     },
     "metadata": {
      "needs_background": "light"
     },
     "output_type": "display_data"
    }
   ],
   "source": [
    "# Linear regression on Southen Hemisphere\n",
    "x_values = southern_hemi_df[\"lat\"]\n",
    "y_values = southern_hemi_df[\"temp\"]\n",
    "plot_linear_regression(x_values, y_values , 'temp',(-50,100))"
   ]
  },
  {
   "cell_type": "code",
   "execution_count": 20,
   "metadata": {},
   "outputs": [],
   "source": [
    "#r-value is 0.62 which means that the relationship between the temperature and latitude is Moderate"
   ]
  },
  {
   "cell_type": "markdown",
   "metadata": {},
   "source": [
    "####  Northern Hemisphere - Humidity (%) vs. Latitude Linear Regression"
   ]
  },
  {
   "cell_type": "code",
   "execution_count": 21,
   "metadata": {},
   "outputs": [
    {
     "name": "stdout",
     "output_type": "stream",
     "text": [
      "The r-value is: 0.0005516470149966446\n"
     ]
    },
    {
     "data": {
      "image/png": "[encoded data removed]",
      "text/plain": [
       "<Figure size 432x288 with 1 Axes>"
      ]
     },
     "metadata": {
      "needs_background": "light"
     },
     "output_type": "display_data"
    }
   ],
   "source": [
    "x_values = northern_hemi_df[\"lat\"]\n",
    "y_values = northern_hemi_df[\"hum\"]\n",
    "plot_linear_regression(x_values, y_values , 'hum',(20,60))"
   ]
  },
  {
   "cell_type": "code",
   "execution_count": 22,
   "metadata": {},
   "outputs": [],
   "source": [
    "#r-value is 0.006 which means that the relationship between the Humidity and latitude is very week"
   ]
  },
  {
   "cell_type": "markdown",
   "metadata": {},
   "source": [
    "####  Southern Hemisphere - Humidity (%) vs. Latitude Linear Regression"
   ]
  },
  {
   "cell_type": "code",
   "execution_count": 23,
   "metadata": {},
   "outputs": [
    {
     "name": "stdout",
     "output_type": "stream",
     "text": [
      "The r-value is: 0.0001828585468152843\n"
     ]
    },
    {
     "data": {
      "image/png": "[encoded data removed]",
      "text/plain": [
       "<Figure size 432x288 with 1 Axes>"
      ]
     },
     "metadata": {
      "needs_background": "light"
     },
     "output_type": "display_data"
    }
   ],
   "source": [
    "x_values = southern_hemi_df[\"lat\"]\n",
    "y_values = southern_hemi_df[\"hum\"]\n",
    "plot_linear_regression(x_values, y_values , 'hum',(-40,20))"
   ]
  },
  {
   "cell_type": "code",
   "execution_count": 24,
   "metadata": {},
   "outputs": [],
   "source": [
    "#r-value is 3.23 which means that the relationship between the Humidity and latitude is very week"
   ]
  },
  {
   "cell_type": "markdown",
   "metadata": {},
   "source": [
    "####  Northern Hemisphere - Cloudiness (%) vs. Latitude Linear Regression"
   ]
  },
  {
   "cell_type": "code",
   "execution_count": 25,
   "metadata": {},
   "outputs": [
    {
     "name": "stdout",
     "output_type": "stream",
     "text": [
      "The r-value is: 0.0037201750893458736\n"
     ]
    },
    {
     "data": {
      "image/png": "[encoded data removed]",
      "text/plain": [
       "<Figure size 432x288 with 1 Axes>"
      ]
     },
     "metadata": {
      "needs_background": "light"
     },
     "output_type": "display_data"
    }
   ],
   "source": [
    "x_values = northern_hemi_df[\"lat\"]\n",
    "y_values = northern_hemi_df[\"clo\"]\n",
    "plot_linear_regression(x_values, y_values , 'clo',(50,10))"
   ]
  },
  {
   "cell_type": "code",
   "execution_count": 26,
   "metadata": {},
   "outputs": [],
   "source": [
    "#r-value is 0.004 which means that the relationship between the Cloudiness and latitude is very week, or no assosiation"
   ]
  },
  {
   "cell_type": "markdown",
   "metadata": {},
   "source": [
    "####  Southern Hemisphere - Cloudiness (%) vs. Latitude Linear Regression"
   ]
  },
  {
   "cell_type": "code",
   "execution_count": 27,
   "metadata": {},
   "outputs": [
    {
     "name": "stdout",
     "output_type": "stream",
     "text": [
      "The r-value is: 0.020843560747423474\n"
     ]
    },
    {
     "data": {
      "image/png": "[encoded data removed]",
      "text/plain": [
       "<Figure size 432x288 with 1 Axes>"
      ]
     },
     "metadata": {
      "needs_background": "light"
     },
     "output_type": "display_data"
    }
   ],
   "source": [
    "x_values = southern_hemi_df[\"lat\"]\n",
    "y_values = southern_hemi_df[\"clo\"]\n",
    "plot_linear_regression(x_values, y_values , 'clo',(-40,20))"
   ]
  },
  {
   "cell_type": "code",
   "execution_count": 28,
   "metadata": {},
   "outputs": [],
   "source": [
    "#r-value is 0.08 which means that the relationship between the Cloudiness and latitude is very week, or no assosiation"
   ]
  },
  {
   "cell_type": "markdown",
   "metadata": {},
   "source": [
    "####  Northern Hemisphere - Wind Speed (mph) vs. Latitude Linear Regression"
   ]
  },
  {
   "cell_type": "code",
   "execution_count": 29,
   "metadata": {},
   "outputs": [
    {
     "name": "stdout",
     "output_type": "stream",
     "text": [
      "The r-value is: 0.0005640943555956807\n"
     ]
    },
    {
     "data": {
      "image/png": "[encoded data removed]",
      "text/plain": [
       "<Figure size 432x288 with 1 Axes>"
      ]
     },
     "metadata": {
      "needs_background": "light"
     },
     "output_type": "display_data"
    }
   ],
   "source": [
    "x_values = northern_hemi_df[\"lat\"]\n",
    "y_values = northern_hemi_df[\"win\"]\n",
    "plot_linear_regression(x_values, y_values , 'win',(40,10))"
   ]
  },
  {
   "cell_type": "code",
   "execution_count": 30,
   "metadata": {},
   "outputs": [],
   "source": [
    "#r-value is 0.001 which means that the relationship between the Wind Speed and the latitude is very week, or no assosiation"
   ]
  },
  {
   "cell_type": "markdown",
   "metadata": {},
   "source": [
    "####  Southern Hemisphere - Wind Speed (mph) vs. Latitude Linear Regression"
   ]
  },
  {
   "cell_type": "code",
   "execution_count": 31,
   "metadata": {},
   "outputs": [
    {
     "name": "stdout",
     "output_type": "stream",
     "text": [
      "The r-value is: 0.02730803388138184\n"
     ]
    },
    {
     "data": {
      "image/png": "[encoded data removed]",
      "text/plain": [
       "<Figure size 432x288 with 1 Axes>"
      ]
     },
     "metadata": {
      "needs_background": "light"
     },
     "output_type": "display_data"
    }
   ],
   "source": [
    "x_values = southern_hemi_df[\"lat\"]\n",
    "y_values = southern_hemi_df[\"win\"]\n",
    "plot_linear_regression(x_values, y_values , 'win',(-40,20))"
   ]
  },
  {
   "cell_type": "code",
   "execution_count": null,
   "metadata": {},
   "outputs": [],
   "source": [
    "#r-value is 0.01 which means that the relationship between the Wind Speed and the latitude is very week, or no assosiation"
   ]
  },
  {
   "cell_type": "code",
   "execution_count": null,
   "metadata": {},
   "outputs": [],
   "source": []
  }
 ],
 "metadata": {
  "anaconda-cloud": {},
  "kernel_info": {
   "name": "python3"
  },
  "kernelspec": {
   "display_name": "Python 3",
   "language": "python",
   "name": "python3"
  },
  "language_info": {
   "codemirror_mode": {
    "name": "ipython",
    "version": 3
   },
   "file_extension": ".py",
   "mimetype": "text/x-python",
   "name": "python",
   "nbconvert_exporter": "python",
   "pygments_lexer": "ipython3",
   "version": "3.8.5"
  },
  "latex_envs": {
   "LaTeX_envs_menu_present": true,
   "autoclose": false,
   "autocomplete": true,
   "bibliofile": "biblio.bib",
   "cite_by": "apalike",
   "current_citInitial": 1,
   "eqLabelWithNumbers": true,
   "eqNumInitial": 1,
   "hotkeys": {
    "equation": "Ctrl-E",
    "itemize": "Ctrl-I"
   },
   "labels_anchors": false,
   "latex_user_defs": false,
   "report_style_numbering": false,
   "user_envs_cfg": false
  },
  "nteract": {
   "version": "0.12.3"
  }
 },
 "nbformat": 4,
 "nbformat_minor": 2
}
